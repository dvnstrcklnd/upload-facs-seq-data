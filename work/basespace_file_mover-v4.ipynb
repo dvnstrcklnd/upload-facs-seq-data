{
 "cells": [
  {
   "cell_type": "code",
   "execution_count": 1,
   "metadata": {},
   "outputs": [],
   "source": [
    "import os\n",
    "import re\n",
    "import sys\n",
    "import subprocess\n",
    "from datetime import datetime\n",
    "from collections import defaultdict\n",
    "\n",
    "import pandas as pd\n",
    "\n",
    "from util.agave_helper import *"
   ]
  },
  {
   "cell_type": "markdown",
   "metadata": {},
   "source": [
    "## Step 0: Create BaseSpaceClient and set variables for your project"
   ]
  },
  {
   "cell_type": "code",
   "execution_count": 2,
   "metadata": {},
   "outputs": [
    {
     "name": "stdout",
     "output_type": "stream",
     "text": [
      "Client created as Devin Strickland\n"
     ]
    }
   ],
   "source": [
    "bs = BaseSpaceClient()"
   ]
  },
  {
   "cell_type": "code",
   "execution_count": 3,
   "metadata": {},
   "outputs": [],
   "source": [
    "# This name should match a BaseSpace Project name\n",
    "bs.set_basespace_project('Protstab')\n",
    "\n",
    "# This is the path on TACC where you want the data to go so that it can be with its friends\n",
    "bs.set_tacc_service('data-sd2e-projects.sd2e-project-11')\n",
    "\n",
    "# This is a subdirectory of tacc_path with the same name as the Aq plan\n",
    "# It is not created automatically\n",
    "bs.set_aq_plan('Plan_37976')"
   ]
  },
  {
   "cell_type": "markdown",
   "metadata": {},
   "source": [
    "## Step 1: Get all the files in your BaseSpace Project"
   ]
  },
  {
   "cell_type": "code",
   "execution_count": 5,
   "metadata": {},
   "outputs": [
    {
     "name": "stdout",
     "output_type": "stream",
     "text": [
      "605\n"
     ]
    }
   ],
   "source": [
    "sample_list = bs.list_files()\n",
    "print(len(sample_list))"
   ]
  },
  {
   "cell_type": "markdown",
   "metadata": {},
   "source": [
    "## Step 2: find a subset of samples"
   ]
  },
  {
   "cell_type": "code",
   "execution_count": null,
   "metadata": {},
   "outputs": [],
   "source": [
    "manifest_path = os.path.join(plan_path, 'manifest.csv')\n",
    "\n",
    "manifest = pd.read_csv(manifest_path)\n",
    "\n",
    "these_sample_names = [str(i) for i in list(manifest.aq_item_id)]\n",
    "\n",
    "# these_sample_names = [x + \" (2)\" for x in these_sample_names]\n",
    "\n",
    "these_samples = [item for item in sample_list if item['name'] in these_sample_names]\n",
    "\n",
    "print(len(these_samples))"
   ]
  },
  {
   "cell_type": "markdown",
   "metadata": {},
   "source": [
    "## Step 3: Move the files"
   ]
  },
  {
   "cell_type": "code",
   "execution_count": null,
   "metadata": {
    "scrolled": false
   },
   "outputs": [],
   "source": [
    "ngs_data_path = os.path.join(plan, 'ngs_data')\n",
    "\n",
    "for item in these_samples:\n",
    "    s = item['name'].replace(' ', '%20')\n",
    "    \n",
    "    this_from_path = os.path.join('agave://data-sd2e-basespace-biofab', project_dir, s, \"Files\")\n",
    "    this_to_path = os.path.join(ngs_data_path, s)\n",
    "    \n",
    "    if not os.path.isdir(this_to_path):\n",
    "        cmd = ['files-mkdir', '-S', tacc_service, '-N', s, ngs_data_path]\n",
    "        msg = subprocess.check_output(cmd)\n",
    "        print(msg)\n",
    "\n",
    "#     os.chdir(this_to_path)\n",
    "#     print(os.getcwd())\n",
    "    \n",
    "    # TODO: Convert this to agavepy\n",
    "#     cmd = ['files-get', '-r', '-S', 'data-sd2e-basespace-biofab', this_from_path]\n",
    "    cmd = ['files-import', '-W', 'strcklnd@uw.edu', '-S', tacc_service, '-U', this_from_path, this_to_path]\n",
    "\n",
    "    msg = subprocess.check_output(cmd)\n",
    "    print(msg)\n",
    "        "
   ]
  }
 ],
 "metadata": {
  "kernelspec": {
   "display_name": "Python 3",
   "language": "python",
   "name": "python3"
  },
  "language_info": {
   "codemirror_mode": {
    "name": "ipython",
    "version": 3
   },
   "file_extension": ".py",
   "mimetype": "text/x-python",
   "name": "python",
   "nbconvert_exporter": "python",
   "pygments_lexer": "ipython3",
   "version": "3.7.3"
  }
 },
 "nbformat": 4,
 "nbformat_minor": 2
}
