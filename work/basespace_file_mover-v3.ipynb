{
 "cells": [
  {
   "cell_type": "code",
   "execution_count": 1,
   "metadata": {},
   "outputs": [],
   "source": [
    "import os\n",
    "import re\n",
    "import sys\n",
    "import subprocess\n",
    "from datetime import datetime\n",
    "from collections import defaultdict\n",
    "\n",
    "import pandas as pd\n",
    "\n",
    "from util.agave_helper import create_client"
   ]
  },
  {
   "cell_type": "markdown",
   "metadata": {},
   "source": [
    "### Create agavepy client"
   ]
  },
  {
   "cell_type": "code",
   "execution_count": 4,
   "metadata": {},
   "outputs": [
    {
     "data": {
      "text/plain": [
       "{'first_name': 'Devin',\n",
       " 'last_name': 'Strickland',\n",
       " 'full_name': 'strcklnd',\n",
       " 'email': 'dvn.strcklnd@gmail.com',\n",
       " 'phone': '',\n",
       " 'mobile_phone': '',\n",
       " 'status': '',\n",
       " 'create_time': '20170926192702Z',\n",
       " 'uid': 845019,\n",
       " 'username': 'strcklnd'}"
      ]
     },
     "execution_count": 4,
     "metadata": {},
     "output_type": "execute_result"
    }
   ],
   "source": [
    "ag = create_client()\n",
    "ag.profiles.get()"
   ]
  },
  {
   "cell_type": "code",
   "execution_count": 3,
   "metadata": {},
   "outputs": [
    {
     "data": {
      "text/plain": [
       "{'first_name': 'Devin',\n",
       " 'last_name': 'Strickland',\n",
       " 'full_name': 'strcklnd',\n",
       " 'email': 'dvn.strcklnd@gmail.com',\n",
       " 'phone': '',\n",
       " 'mobile_phone': '',\n",
       " 'status': '',\n",
       " 'create_time': '20170926192702Z',\n",
       " 'uid': 845019,\n",
       " 'username': 'strcklnd'}"
      ]
     },
     "execution_count": 3,
     "metadata": {},
     "output_type": "execute_result"
    }
   ],
   "source": []
  },
  {
   "cell_type": "markdown",
   "metadata": {},
   "source": [
    "### Method for dealing with agavepy date formatting"
   ]
  },
  {
   "cell_type": "code",
   "execution_count": null,
   "metadata": {},
   "outputs": [],
   "source": [
    "def json_serial(obj):\n",
    "    \"\"\"JSON serializer for objects not serializable by default json code\"\"\"\n",
    "    if isinstance(obj, datetime):\n",
    "        serial = obj.isoformat()\n",
    "        return serial\n",
    "    raise TypeError (\"Type not serializable\")"
   ]
  },
  {
   "cell_type": "markdown",
   "metadata": {},
   "source": [
    "### Method for getting a long list of files without dotfiles"
   ]
  },
  {
   "cell_type": "code",
   "execution_count": null,
   "metadata": {},
   "outputs": [],
   "source": [
    "def list_files(file_path=None, system_id=None, limit=100, offset=0, ignore_dotfiles=True):\n",
    "    all_files = []\n",
    "    \n",
    "    while True:\n",
    "        batch = ag.files.list(filePath=file_path, systemId=system_id, limit=limit, offset=offset)\n",
    "        more_files = len(batch) == limit\n",
    "        \n",
    "        if ignore_dotfiles:\n",
    "            batch = [item for item in batch if not item['name'].startswith(\".\")]\n",
    "        \n",
    "        all_files.extend(batch)\n",
    "        offset += limit\n",
    "        \n",
    "        if not more_files:\n",
    "            break\n",
    "        \n",
    "    return all_files"
   ]
  },
  {
   "cell_type": "markdown",
   "metadata": {},
   "source": [
    "## Step 0: Change variables for your project"
   ]
  },
  {
   "cell_type": "code",
   "execution_count": null,
   "metadata": {},
   "outputs": [],
   "source": [
    "# This name should match a BaseSpace Project name\n",
    "project_name = 'Protstab'\n",
    "\n",
    "# This is the path on TACC where you want the data to go so that it can be with its friends\n",
    "tacc_service = 'data-sd2e-projects.sd2e-project-11'\n",
    "\n",
    "# This is a subdirectory of tacc_path with the same name as the Aq plan\n",
    "# It is not created automatically\n",
    "plan = 'Plan_37976'\n",
    "\n",
    "# Don't change this\n",
    "tacc_path = os.path.join('/home/jupyter', tacc_service.replace('.', '/').replace('data-', ''))\n",
    "plan_path = os.path.join(tacc_path, plan)"
   ]
  },
  {
   "cell_type": "markdown",
   "metadata": {},
   "source": [
    "## Step 1: Get all the files in your BaseSpace Project of interest"
   ]
  },
  {
   "cell_type": "code",
   "execution_count": null,
   "metadata": {},
   "outputs": [],
   "source": [
    "project_dir = 'Projects/%s/Samples/' % project_name #'BioSamples/'\n",
    "system_id = 'data-sd2e-basespace-biofab'\n",
    "\n",
    "sample_list = list_files(\n",
    "    file_path=project_dir, \n",
    "    system_id=system_id,\n",
    "    limit=250, offset=0\n",
    ")\n",
    "\n",
    "sample_list.sort(key=lambda x: x['name'])\n",
    "\n",
    "print(len(sample_list))"
   ]
  },
  {
   "cell_type": "markdown",
   "metadata": {},
   "source": [
    "## Step 2: find a subset of samples"
   ]
  },
  {
   "cell_type": "markdown",
   "metadata": {},
   "source": [
    "**Method 1: Arbitray file attributes**"
   ]
  },
  {
   "cell_type": "code",
   "execution_count": null,
   "metadata": {},
   "outputs": [],
   "source": [
    "grouped = defaultdict(list)\n",
    "these_samples = []\n",
    "\n",
    "for s in sample_list:\n",
    "    name = s['name']\n",
    "    key = name[0:6]\n",
    "    \n",
    "    grouped[key].append(s)\n",
    "    \n",
    "for key, samples in grouped.items():\n",
    "    samples.sort(key=lambda x: x['length'])\n",
    "    s = samples[-1]\n",
    "    \n",
    "    name = s['name']\n",
    "    if len(name) == 6: name = name + '    '\n",
    "    \n",
    "    date = json_serial(s['lastModified'])\n",
    "    size = s['length'] * 1024 * 1024\n",
    "    \n",
    "    print(\"%s  %s  %d\" % (name, date, size))\n",
    "    these_samples.append(s)\n",
    "\n",
    "print(len(these_samples))"
   ]
  },
  {
   "cell_type": "markdown",
   "metadata": {},
   "source": [
    "**Method 2: Sample IDs that are close to one another**"
   ]
  },
  {
   "cell_type": "code",
   "execution_count": null,
   "metadata": {},
   "outputs": [],
   "source": [
    "ids = [\"359420\", \"359421\", \"359422\", \"359423\", \"359424\", \"359425\", \"359426\"]\n",
    "\n",
    "these_samples = [item for item in sample_list if item['name'] in ids]\n",
    "\n",
    "print(len(these_samples))"
   ]
  },
  {
   "cell_type": "markdown",
   "metadata": {},
   "source": [
    "**Method 3: Use a manifest!**\n",
    "\n",
    "This assumes that the plan_path already exists and contains a file named 'manifest.csv'"
   ]
  },
  {
   "cell_type": "code",
   "execution_count": null,
   "metadata": {},
   "outputs": [],
   "source": [
    "manifest_path = os.path.join(plan_path, 'manifest.csv')\n",
    "\n",
    "manifest = pd.read_csv(manifest_path)\n",
    "\n",
    "these_sample_names = [str(i) for i in list(manifest.aq_item_id)]\n",
    "\n",
    "# these_sample_names = [x + \" (2)\" for x in these_sample_names]\n",
    "\n",
    "these_samples = [item for item in sample_list if item['name'] in these_sample_names]\n",
    "\n",
    "print(len(these_samples))"
   ]
  },
  {
   "cell_type": "markdown",
   "metadata": {},
   "source": [
    "## Step 3: Move the files"
   ]
  },
  {
   "cell_type": "code",
   "execution_count": null,
   "metadata": {
    "scrolled": false
   },
   "outputs": [],
   "source": [
    "ngs_data_path = os.path.join(plan, 'ngs_data')\n",
    "\n",
    "for item in these_samples:\n",
    "    s = item['name'].replace(' ', '%20')\n",
    "    \n",
    "    this_from_path = os.path.join('agave://data-sd2e-basespace-biofab', project_dir, s, \"Files\")\n",
    "    this_to_path = os.path.join(ngs_data_path, s)\n",
    "    \n",
    "    if not os.path.isdir(this_to_path):\n",
    "        cmd = ['files-mkdir', '-S', tacc_service, '-N', s, ngs_data_path]\n",
    "        msg = subprocess.check_output(cmd)\n",
    "        print(msg)\n",
    "\n",
    "#     os.chdir(this_to_path)\n",
    "#     print(os.getcwd())\n",
    "    \n",
    "    # TODO: Convert this to agavepy\n",
    "#     cmd = ['files-get', '-r', '-S', 'data-sd2e-basespace-biofab', this_from_path]\n",
    "    cmd = ['files-import', '-W', 'strcklnd@uw.edu', '-S', tacc_service, '-U', this_from_path, this_to_path]\n",
    "\n",
    "    msg = subprocess.check_output(cmd)\n",
    "    print(msg)\n",
    "        "
   ]
  }
 ],
 "metadata": {
  "kernelspec": {
   "display_name": "Python 3",
   "language": "python",
   "name": "python3"
  },
  "language_info": {
   "codemirror_mode": {
    "name": "ipython",
    "version": 3
   },
   "file_extension": ".py",
   "mimetype": "text/x-python",
   "name": "python",
   "nbconvert_exporter": "python",
   "pygments_lexer": "ipython3",
   "version": "3.7.3"
  }
 },
 "nbformat": 4,
 "nbformat_minor": 2
}
